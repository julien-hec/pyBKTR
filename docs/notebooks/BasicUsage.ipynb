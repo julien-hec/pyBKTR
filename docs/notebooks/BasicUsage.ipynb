{
 "cells": [
  {
   "attachments": {},
   "cell_type": "markdown",
   "metadata": {},
   "source": [
    "## Basic Usage"
   ]
  },
  {
   "attachments": {},
   "cell_type": "markdown",
   "metadata": {},
   "source": [
    "### Regression Data\n",
    "\n",
    "The BKTR algorithm is only able to run on certain datasets respecting some criteria. This dataset should (most of the time) contain five different dataframes. \n",
    "  - A dataframe for the spatial covariates ($S$ x $c_s$)\n",
    "  - A dataframe for the spatial point location coordinates ($S$ x $l_s$)\n",
    "  - A dataframe for the temporal covariates ($T$ x $c_t$)\n",
    "  - A dataframe for the temporal point location coordinates ($T$ x $l_t$)\n",
    "  - A dataframe for the response variable ($S$ x $T$)\n",
    "\n",
    "Where:\n",
    "  - $S$ is the number of spatial points\n",
    "  - $T$ is the number of temporal points\n",
    "  - $l_s$ and $l_t$ are the number of dimensions used to represent the location of spatial and temporal points (respectively).\n",
    "  - $c_s$ and $c_t$ are the number of covariates used for spatial and temporal points (respectively)."
   ]
  },
  {
   "attachments": {},
   "cell_type": "markdown",
   "metadata": {},
   "source": [
    "### Data Example\n",
    "\n",
    "In this package we attached the same dataset as the one presented in the BKTR article. We can explore those datasets to be able to ensure that they fit the dimensions criteria."
   ]
  },
  {
   "cell_type": "code",
   "execution_count": null,
   "metadata": {},
   "outputs": [],
   "source": [
    "# TODO\n",
    "# Clean data with the right final dimensions before\n",
    "# Load all dataframes and show their dimensions"
   ]
  },
  {
   "attachments": {},
   "cell_type": "markdown",
   "metadata": {},
   "source": [
    "### Running BKTR\n",
    "Once the dataframes have been loaded with the right dimensions, we can easily run the BKTR algorithm on our dataset."
   ]
  },
  {
   "cell_type": "code",
   "execution_count": null,
   "metadata": {},
   "outputs": [],
   "source": [
    "from pyBKTR.bktr import BKTRRegressor\n",
    "\n",
    "bktr_regressor = BKTRRegressor(\n",
    "    temporal_covariate_matrix=bixi_weather_matrix,\n",
    "    spatial_covariate_matrix=bixi_station_matrix,\n",
    "    y=bixi_y,\n",
    "    omega=bixi_omega,\n",
    "    rank_decomp=10,\n",
    "    burn_in_iter=10,\n",
    "    sampling_iter=5,\n",
    "    spatial_kernel_x=spatial_kernel_x,\n",
    "    temporal_kernel_x=temporal_kernel_x,\n",
    ")\n",
    "bktr_regressor.mcmc_sampling()"
   ]
  },
  {
   "attachments": {},
   "cell_type": "markdown",
   "metadata": {},
   "source": [
    "It is interesting to note that the package use default kernels and distance calculation methods that we think most users will want to use. By default, the `BKTRRegressor` use a Matern kernel $\\frac{3}{2}$ and the haversine distance for the spatial coordinates, meaning that the `spatial_kernel_x` should have a dimension of $S$ x $2$ for (longitude, latitude). For temporal coordinates we use a SE Kernel by default with linear distance for the temporal coordinates meaning the `temporal_kernel_x` should have a dimension of $T$ x $1$.\n",
    "\n",
    "Also, the `rank_decomp` parameter represent the rank of the decomposition used in the BKTR algorithm, in general a higher rank have the possibility to give more precise results at the cost of computation time. The `burn_in_iter` and `sampling_iter` params are used to dertermine the number of iterations of the algorithm, the `burn_in_iter` represent the number of iterations before we start the sampling (helps to the parameters to converge before starting the sampling phase) and the `sampling_iter` is the number of iterations used for sampling.\n",
    "\n",
    "In the next section, we will demonstrate how to use different kernels and distance matrix to better fit your own data."
   ]
  }
 ],
 "metadata": {
  "kernelspec": {
   "display_name": "master_project",
   "language": "python",
   "name": "python3"
  },
  "language_info": {
   "name": "python",
   "version": "3.10.0"
  },
  "orig_nbformat": 4,
  "vscode": {
   "interpreter": {
    "hash": "d73e5f106844924af230dd52611a320e450f1ce6a6f08f951610729fb0c59975"
   }
  }
 },
 "nbformat": 4,
 "nbformat_minor": 2
}
