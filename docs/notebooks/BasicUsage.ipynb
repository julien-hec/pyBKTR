{
 "cells": [
  {
   "attachments": {},
   "cell_type": "markdown",
   "metadata": {},
   "source": [
    "## Basic Usage"
   ]
  },
  {
   "attachments": {},
   "cell_type": "markdown",
   "metadata": {},
   "source": [
    "### Regression Data\n",
    "\n",
    "The BKTR algorithm is only able to run on a type of dataset respecting some criteria. The dataset should contain four different dataframes.\n",
    "\n",
    "  * A dataframe for the covariates (`covariates_df`) with dimensions $ST$ x $c$. Having two row indexes: `location` and `time`.\n",
    "  * A dataframe for the response variable $y$ (`y_df`) with dimensions $S$ x $T$.\n",
    "  * A dataframe for the spatial point location coordinates (`x_spatial_df`) with dimensions $S$ x $l_s$.\n",
    "  * A dataframe for the temporal point location coordinates (`x_temporal_df`) with dimensions $T$ x $l_t$.\n",
    "\n",
    "Where:\n",
    "\n",
    "  * $S$ is the number of spatial points\n",
    "  * $T$ is the number of temporal points\n",
    "  * $l_s$ and $l_t$ are the number of dimensions used to represent the location of spatial and temporal points (respectively).\n",
    "  * $c$ is the number of covariates (features) used through space and time.\n",
    "\n",
    "Note: If the data provided does not hold corresponding labels (via columns and indexes) for the above mentioned dimensions. There will be a validation error raised by the `BKTRRegressor`."
   ]
  },
  {
   "attachments": {},
   "cell_type": "markdown",
   "metadata": {},
   "source": [
    "### Data Example\n",
    "\n",
    "In this package we used the same dataset as the *BIXI* dataset presented in the BKTR article (section 5). We can explore those datasets to be able to ensure that they fit the dimensions criteria."
   ]
  },
  {
   "attachments": {},
   "cell_type": "markdown",
   "metadata": {},
   "source": [
    "##### Let's start by analyzing the dimensions of the BIXI dataset"
   ]
  },
  {
   "cell_type": "code",
   "execution_count": 2,
   "metadata": {},
   "outputs": [
    {
     "name": "stdout",
     "output_type": "stream",
     "text": [
      "Lets Explore the BIXI data dimensions: \n",
      "\n",
      "Departure data (y):\n",
      "\t S=587 & T=196\n",
      "Covariates\n",
      "\t S*T=115052 & c=18\n",
      "Spatial points coordinates:\n",
      "\t S=587 & ls=2\n",
      "Spatial points coordinates:\n",
      "\t T=196 & lt=1 \n",
      "\n",
      "\n"
     ]
    }
   ],
   "source": [
    "from pyBKTR.examples.bixi import BixiData\n",
    "\n",
    "# Load the BIXI data example\n",
    "bixi_data = BixiData()\n",
    "\n",
    "print('Lets Explore the BIXI data dimensions: \\n')\n",
    "\n",
    "print('Departure data (y):')\n",
    "s, t = bixi_data.departure_df.shape\n",
    "print(f'\\t S={s} & T={t}')\n",
    "\n",
    "print('Covariates')\n",
    "s, cs = bixi_data.covariates_df.shape\n",
    "print(f'\\t S*T={s} & c={cs}')\n",
    "\n",
    "print('Spatial points coordinates:')\n",
    "s, ls = bixi_data.spatial_positions_df.shape\n",
    "print(f'\\t S={s} & ls={ls}')\n",
    "\n",
    "\n",
    "print('Spatial points coordinates:')\n",
    "t, lt = bixi_data.temporal_positions_df.shape\n",
    "print(f'\\t T={t} & lt={lt} \\n\\n')\n"
   ]
  },
  {
   "attachments": {},
   "cell_type": "markdown",
   "metadata": {},
   "source": [
    "##### Bixi Data - Spatial Labels"
   ]
  },
  {
   "cell_type": "code",
   "execution_count": 4,
   "metadata": {},
   "outputs": [
    {
     "data": {
      "text/plain": [
       "Index(['7149 - 16e avenue / Jean-Talon', '7148 - Papineau / Émile-Journault',\n",
       "       '7147 - Métro de Castelnau (de Castelnau / Clark)',\n",
       "       '7146 - Lusignan / St-Jacques', '7145 - Argyle / Bannantyne',\n",
       "       '7144 - Hickson / Wellington', '7143 - LaSalle / Godin',\n",
       "       '7142 - Elgar / de l'Île-des-Sœurs', '7141 - Turgeon / Notre-Dame',\n",
       "       '7140 - St-Jacques / des Seigneurs',\n",
       "       ...\n",
       "       '6004 - du Champ-de-Mars / Gosford', '6003 - Clark / Evans',\n",
       "       '6002 - Ste-Catherine / Dezery',\n",
       "       '6001 - Métro Champ-de-Mars (Viger / Sanguinet)',\n",
       "       '5007 - Métro Longueuil - Université de Sherbrooke',\n",
       "       '5006 - Collège Édouard-Montpetit (de Gentilly / de Normandie)',\n",
       "       '4002 - Graham / Wicksteed', '4001 - Graham / Brookfield',\n",
       "       '4000 - Jeanne-d'Arc / Ontario',\n",
       "       '10002 - Métro Charlevoix (Centre / Charlevoix)'],\n",
       "      dtype='object', name='location', length=587)"
      ]
     },
     "execution_count": 4,
     "metadata": {},
     "output_type": "execute_result"
    }
   ],
   "source": [
    "bixi_data.covariates_df.index.get_level_values('location').unique()"
   ]
  },
  {
   "cell_type": "code",
   "execution_count": 7,
   "metadata": {},
   "outputs": [
    {
     "name": "stdout",
     "output_type": "stream",
     "text": [
      "Here is a list of the first 5 spatial points labels:\n",
      "\t 10002 - Métro Charlevoix (Centre / Charlevoix)\n",
      "\t 4000 - Jeanne-d'Arc / Ontario\n",
      "\t 4001 - Graham / Brookfield\n",
      "\t 4002 - Graham / Wicksteed\n",
      "\t 5006 - Collège Édouard-Montpetit (de Gentilly / de Normandie)\n",
      "\n",
      "The spatial labels should be identical in their corresponding axis.\n",
      "And they are identical.\n"
     ]
    }
   ],
   "source": [
    "print('Here is a list of the first 5 spatial points labels:')\n",
    "print('\\t', '\\n\\t '.join(bixi_data.departure_df.index.to_list()[:5]))\n",
    "\n",
    "print()\n",
    "\n",
    "print('The spatial labels should be identical in their corresponding axis.')\n",
    "has_same_spatial_points_labels = (\n",
    "    set(bixi_data.departure_df.index.to_list())\n",
    "    == set(bixi_data.covariates_df.index.get_level_values('location').to_list())\n",
    "    == set(bixi_data.spatial_positions_df.index.to_list())\n",
    ")\n",
    "print(f'And they are {\"\" if has_same_spatial_points_labels else \"not \"}identical.')"
   ]
  },
  {
   "attachments": {},
   "cell_type": "markdown",
   "metadata": {},
   "source": [
    "##### Bixi Data - Temporal Labels"
   ]
  },
  {
   "cell_type": "code",
   "execution_count": 3,
   "metadata": {},
   "outputs": [
    {
     "name": "stdout",
     "output_type": "stream",
     "text": [
      "Here is a list of the first 5 temporal points labels:\n",
      "\t 2019-04-15\n",
      "\t 2019-04-16\n",
      "\t 2019-04-17\n",
      "\t 2019-04-18\n",
      "\t 2019-04-19\n",
      "\n",
      "The temporal labels should be identical in their corresponding axis.\n",
      "And they are identical.\n"
     ]
    }
   ],
   "source": [
    "print('Here is a list of the first 5 temporal points labels:')\n",
    "print('\\t', '\\n\\t '.join(bixi_data.departure_df.columns.to_list()[:5]))\n",
    "\n",
    "print()\n",
    "\n",
    "print('The temporal labels should be identical in their corresponding axis.')\n",
    "has_same_temporal_points_labels = (\n",
    "    bixi_data.departure_df.columns.to_list()\n",
    "    == bixi_data.temporal_features_df.index.to_list()\n",
    "    == bixi_data.temporal_positions_df.index.to_list()\n",
    ")\n",
    "print(f'And they are {\"\" if has_same_temporal_points_labels else \"not \"}identical.')"
   ]
  },
  {
   "attachments": {},
   "cell_type": "markdown",
   "metadata": {},
   "source": [
    "#### Bixi Data - Note\n",
    "The Bixi data used in the BKTR article was initially different from the above presented datasets. The data was presented in a spatial covariates and temporal covariates manner. By that, we mean that the covariates were presented in two different datasets since the spatial covariates did not vary through time (i,e. The population around a station did not change with time.) and the temporal covariates did not vary through space (i,e. The temperature was defined as the same temperature for all the station studied). Thus, we needed to merge the covariates in a single long dataframe and since this operation might be needed for other datasets we present this operation in the *utility* documentation."
   ]
  },
  {
   "attachments": {},
   "cell_type": "markdown",
   "metadata": {},
   "source": [
    "### Running BKTR\n",
    "Once the dataframes have been loaded with the right dimensions, we can easily run the BKTR algorithm on our dataset."
   ]
  },
  {
   "cell_type": "code",
   "execution_count": 4,
   "metadata": {},
   "outputs": [
    {
     "name": "stdout",
     "output_type": "stream",
     "text": [
      "** Result for iter 1    : elapsed time is 0.7909 || total sq error is 2092.6414 || mae is 0.1006 || rmse is 0.1446 **\n",
      "** Result for iter 2    : elapsed time is 0.4751 || total sq error is 823.4394 || mae is 0.0665 || rmse is 0.0907 **\n",
      "** Result for iter 3    : elapsed time is 0.9002 || total sq error is 664.3007 || mae is 0.0598 || rmse is 0.0815 **\n",
      "** Result for iter 4    : elapsed time is 0.3751 || total sq error is 648.9187 || mae is 0.0590 || rmse is 0.0805 **\n",
      "** Result for iter 5    : elapsed time is 0.6862 || total sq error is 631.2584 || mae is 0.0582 || rmse is 0.0794 **\n",
      "** Result for iter 6    : elapsed time is 0.5136 || total sq error is 608.4890 || mae is 0.0573 || rmse is 0.0780 **\n",
      "** Result for iter 7    : elapsed time is 0.5314 || total sq error is 601.3555 || mae is 0.0569 || rmse is 0.0775 **\n",
      "** Result for iter 8    : elapsed time is 0.6055 || total sq error is 598.6233 || mae is 0.0568 || rmse is 0.0773 **\n",
      "** Result for iter 9    : elapsed time is 2.1064 || total sq error is 596.9520 || mae is 0.0568 || rmse is 0.0772 **\n",
      "** Result for iter 10   : elapsed time is 1.9802 || total sq error is 594.0323 || mae is 0.0566 || rmse is 0.0770 **\n",
      "** Result for iter TOTAL : elapsed time is 8.9644 || total sq error is 578.3341 || mae is 0.0556 || rmse is 0.0760 **\n"
     ]
    }
   ],
   "source": [
    "from pyBKTR.bktr import BKTRRegressor\n",
    "\n",
    "bktr_regressor = BKTRRegressor(\n",
    "    spatial_covariates_df=bixi_data.spatial_features_df,\n",
    "    temporal_covariates_df=bixi_data.temporal_features_df,\n",
    "    y_df=bixi_data.departure_df,\n",
    "    rank_decomp=6,\n",
    "    burn_in_iter=5,\n",
    "    sampling_iter=5,\n",
    "    spatial_positions_df=bixi_data.spatial_positions_df,\n",
    "    temporal_positions_df=bixi_data.temporal_positions_df,\n",
    ")\n",
    "bktr_regressor.mcmc_sampling();"
   ]
  },
  {
   "attachments": {},
   "cell_type": "markdown",
   "metadata": {},
   "source": [
    "It is interesting to note that the package use default kernels and distance calculation methods that we think most users will want to use. By default, the `BKTRRegressor` use a Matern kernel $\\frac{3}{2}$ and the haversine distance for the spatial coordinates, meaning that the `spatial_kernel_x` should have a dimension of $S$ x $2$ for (longitude, latitude). For temporal coordinates we use a SE Kernel by default with linear distance for the temporal coordinates meaning the `temporal_kernel_x` should have a dimension of $T$ x $1$.\n",
    "\n",
    "Also, the `rank_decomp` parameter represent the rank of the decomposition used in the BKTR algorithm, in general a higher rank have the possibility to give more precise results at the cost of computation time. The `burn_in_iter` and `sampling_iter` params are used to dertermine the number of iterations of the algorithm, the `burn_in_iter` represent the number of iterations before we start the sampling (helps to the parameters to converge before starting the sampling phase) and the `sampling_iter` is the number of iterations used for sampling.\n",
    "\n",
    "In the next section, we will demonstrate how to use different kernels and distance matrix to better fit your own data."
   ]
  }
 ],
 "metadata": {
  "kernelspec": {
   "display_name": "master_project",
   "language": "python",
   "name": "python3"
  },
  "language_info": {
   "codemirror_mode": {
    "name": "ipython",
    "version": 3
   },
   "file_extension": ".py",
   "mimetype": "text/x-python",
   "name": "python",
   "nbconvert_exporter": "python",
   "pygments_lexer": "ipython3",
   "version": "3.10.0"
  },
  "orig_nbformat": 4,
  "vscode": {
   "interpreter": {
    "hash": "d73e5f106844924af230dd52611a320e450f1ce6a6f08f951610729fb0c59975"
   }
  }
 },
 "nbformat": 4,
 "nbformat_minor": 2
}
