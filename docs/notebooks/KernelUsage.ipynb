{
 "cells": [
  {
   "attachments": {},
   "cell_type": "markdown",
   "metadata": {},
   "source": [
    "## Kernel Usage"
   ]
  },
  {
   "attachments": {},
   "cell_type": "markdown",
   "metadata": {},
   "source": [
    "As mentionnned in the *Basic Usage* section, the default parameters of the algorithm assume that the spatial coordinates are geolocations and that time coordinates have only one dimension. On top of that we chose some kernels by default to simplify basic usage.\n",
    "\n",
    "When the user wants to try different kernels, it is pretty simple to do. The user can chose any class inherithing from the abstract `Kernel` (in the *Kernel Module*) and use it for spatial or temporal points. Some notable kernels that we can find in the *Kernel Module* are:\n",
    "\n",
    "* `KernelWhiteNoise`\n",
    "* `KernelDotProduct`\n",
    "* `KernelSE`\n",
    "* `KernelRQ`\n",
    "* `KernelPeriodic`\n",
    "* `KernelMatern`\n",
    "\n",
    "Each kernel have different parameters (`KernelParameter`) that we can also individually configure. We can configure their initial values (`value`), their sampling bounds (`lower_bound`, `upper_bound`) and we can even keep those parameter constant during the whole sampling (set `is_constant` to `True`).\n",
    "\n",
    "According to the nature of the coordinates, the user can also chose which distance type `DIST_TYPE` he wants to use when calculating the distance matrices from the `kernel_x` passed to the regressor. Let's say we have geographical coordinates, it makes sense to use `DIST_TYPE.HAVERSINE` but not so much sense to use `DIST_TYPE.LINEAR`. Our general rule of thumb would be the following:\n",
    "\n",
    "* Use `DIST_TYPE.HAVERSINE` for geographical locations\n",
    "* Use `DIST_TYPE.EUCLIDEAN` for coordinates 2D coordinates (not geographical) or coordinates with 3+ dimensions\n",
    "* Use `DIST_TYPE.LINEAR` if the coordinates only have one dimension (example time points)."
   ]
  },
  {
   "attachments": {},
   "cell_type": "markdown",
   "metadata": {},
   "source": [
    "### Custom Kernels"
   ]
  },
  {
   "attachments": {},
   "cell_type": "markdown",
   "metadata": {},
   "source": [
    "To setup your kernel, you simply need to choose the kernel that interest you and initialize with the right parameters. Once initialized, you need to pass it to the right `BKTRRegressor` parameter (`spatial_kernel` or `temporal_kernel`).\n",
    "\n",
    "The following is an example of how to setup the kernel that was presented in subsection `5.2` of the `BKTR Article`."
   ]
  },
  {
   "attachments": {},
   "cell_type": "markdown",
   "metadata": {},
   "source": [
    "#### Example Spatial Kernel\n",
    "\n",
    "The spatial kernel presented for the BIXI data in the article is a Matern 3/2 using a haversine distance. Let's see how to setup this kernel."
   ]
  },
  {
   "cell_type": "code",
   "execution_count": null,
   "metadata": {},
   "outputs": [],
   "source": [
    "from pyBKTR.kernels import KernelMatern\n",
    "from pyBKTR.distances import DIST_TYPE\n",
    "\n",
    "# Create a spatial matern kernel, here the smoothness factor of 3 represent a Matern 3/2\n",
    "spatial_kernel = KernelMatern(smoothness_factor=3, distance_type=DIST_TYPE.HAVERSINE)"
   ]
  },
  {
   "attachments": {},
   "cell_type": "markdown",
   "metadata": {},
   "source": [
    "#### Example Temporal Kernel\n",
    "\n",
    "The temporal kernel used was a little bit more complex. It was defined as a product of a periodic kernel and a SE kernel. Also, the period of the periodic kernel was deemed to be equal to 7. Let's define this kernel."
   ]
  },
  {
   "cell_type": "code",
   "execution_count": null,
   "metadata": {},
   "outputs": [],
   "source": [
    "from pyBKTR.kernels import KernelParameter, KernelPeriodic, KernelSE\n",
    "from pyBKTR.distances import DIST_TYPE\n",
    "\n",
    "# Since kernel use a time axis, we can always use the distance type DIST_TYPE.LINEAR\n",
    "dist = DIST_TYPE.LINEAR\n",
    "\n",
    "# Start by creating a temporal periodic kernel with a period length of 7 days\n",
    "# Since the period length parameter stays constant, we need to change its definition\n",
    "period_length_param = KernelParameter(7, name='period length', is_constant=True)\n",
    "periodic_kernel = KernelPeriodic(period_length=period_length_param, distance_type=dist)\n",
    "\n",
    "# Then we can create the SE kernel\n",
    "se_kernel = KernelSE(distance_type=dist)\n",
    "\n",
    "# Finally we can simply multiply the two kernels to create a new product kernel\n",
    "temporal_kernel = periodic_kernel * se_kernel"
   ]
  },
  {
   "attachments": {},
   "cell_type": "markdown",
   "metadata": {},
   "source": [
    "Note that the multiplication of two kernels is taken in charge by the `ComposedKernel` that can be found in the `kernel` submodule of pyBKTR. Also, it is interesting to know that composed kernel can work with the addition of two kernels.\n",
    "\n",
    "Note also that `DIST_TYPE.LINEAR` is the default `distance_type` for SE & Periodic Kernels. Thus we would have been able to further simplify those kernels' initialization (see `Example Custom Kernel Usage`)."
   ]
  },
  {
   "attachments": {},
   "cell_type": "markdown",
   "metadata": {},
   "source": [
    "#### Custom Kernel Usage\n",
    "\n",
    "We can use the two kernels created previously (`spatial_kernel` and `temporal_kernel`) and use them in a `BKTRRegressor`."
   ]
  },
  {
   "cell_type": "code",
   "execution_count": null,
   "metadata": {},
   "outputs": [],
   "source": [
    "from pyBKTR.bktr import BKTRRegressor\n",
    "\n",
    "bktr_regressor = BKTRRegressor(\n",
    "    temporal_covariate_matrix=bixi_weather_matrix,\n",
    "    spatial_covariate_matrix=bixi_station_matrix,\n",
    "    y=bixi_y,\n",
    "    omega=bixi_omega,\n",
    "    rank_decomp=10,\n",
    "    burn_in_iter=10,\n",
    "    sampling_iter=5,\n",
    "    spatial_kernel=spatial_kernel,\n",
    "    spatial_kernel_x=spatial_kernel_x,\n",
    "    temporal_kernel=temporal_kernel,\n",
    "    temporal_kernel_x=temporal_kernel_x,\n",
    ")\n",
    "bktr_regressor.mcmc_sampling()"
   ]
  }
 ],
 "metadata": {
  "kernelspec": {
   "display_name": "master_project",
   "language": "python",
   "name": "python3"
  },
  "language_info": {
   "name": "python",
   "version": "3.10.0"
  },
  "orig_nbformat": 4,
  "vscode": {
   "interpreter": {
    "hash": "d73e5f106844924af230dd52611a320e450f1ce6a6f08f951610729fb0c59975"
   }
  }
 },
 "nbformat": 4,
 "nbformat_minor": 2
}
